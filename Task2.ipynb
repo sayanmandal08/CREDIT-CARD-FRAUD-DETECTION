{
  "nbformat": 4,
  "nbformat_minor": 0,
  "metadata": {
    "colab": {
      "provenance": [],
      "authorship_tag": "ABX9TyOC6w+cppcpTppiNj/iUUhS",
      "include_colab_link": true
    },
    "kernelspec": {
      "name": "python3",
      "display_name": "Python 3"
    },
    "language_info": {
      "name": "python"
    }
  },
  "cells": [
    {
      "cell_type": "markdown",
      "metadata": {
        "id": "view-in-github",
        "colab_type": "text"
      },
      "source": [
        "<a href=\"https://colab.research.google.com/github/sayanmandal08/CREDIT-CARD-FRAUD-DETECTION/blob/main/Task2.ipynb\" target=\"_parent\"><img src=\"https://colab.research.google.com/assets/colab-badge.svg\" alt=\"Open In Colab\"/></a>"
      ]
    },
    {
      "cell_type": "markdown",
      "source": [
        "**SAYAN MANDAL**"
      ],
      "metadata": {
        "id": "pvJiDHLUCkQ-"
      }
    },
    {
      "cell_type": "code",
      "execution_count": null,
      "metadata": {
        "id": "FqJdkHdMIOYK"
      },
      "outputs": [],
      "source": [
        "import numpy as np\n",
        "import pandas as pd"
      ]
    },
    {
      "cell_type": "code",
      "source": [
        "from sklearn.preprocessing import LabelEncoder\n",
        "from sklearn.ensemble import RandomForestClassifier\n",
        "from sklearn.metrics import classification_report, confusion_matrix\n",
        "\n",
        "train_path = \"/content/fraudTrain.csv\"\n",
        "test_path = \"/content/fraudTest.csv\"\n",
        "\n",
        "train_df = pd.read_csv(train_path)\n",
        "test_df = pd.read_csv(test_path)\n",
        "\n",
        "print(\"Train shape:\", train_df.shape)\n",
        "print(\"Test shape:\", test_df.shape)\n",
        "print(train_df.head())\n",
        "\n",
        "target = \"is_fraud\"\n",
        "\n",
        "drop_cols = [\"Unnamed: 0\", \"trans_date_trans_time\", \"dob\", \"first\", \"last\", \"street\", \"city\", \"state\", \"zip\", \"trans_num\", \"unix_time\", \"merchant\", \"category\", \"job\"]\n",
        "train_df = train_df.drop(columns=[col for col in drop_cols if col in train_df.columns])\n",
        "test_df = test_df.drop(columns=[col for col in drop_cols if col in test_df.columns])\n",
        "\n",
        "cat_cols = train_df.select_dtypes(include=['object']).columns\n",
        "le = LabelEncoder()\n",
        "for col in cat_cols:\n",
        "    train_df[col] = train_df[col].fillna('missing').astype(str)\n",
        "    test_df[col] = test_df[col].fillna('missing').astype(str)\n",
        "    train_df[col] = le.fit_transform(train_df[col])\n",
        "    test_df[col] = le.transform(test_df[col])\n",
        "\n",
        "\n",
        "\n",
        "train_df.dropna(subset=[target], inplace=True)\n",
        "test_df.dropna(subset=[target], inplace=True)\n",
        "\n",
        "\n",
        "X_train = train_df.drop(columns=[target])\n",
        "y_train = train_df[target]\n",
        "X_test = test_df.drop(columns=[target])\n",
        "y_test = test_df[target]\n",
        "\n",
        "\n",
        "model = RandomForestClassifier(n_estimators=200, random_state=42, class_weight=\"balanced\")\n",
        "model.fit(X_train, y_train)\n",
        "\n",
        "\n",
        "y_pred = model.predict(X_test)\n",
        "\n",
        "\n",
        "print(\"Classification Report:\")\n",
        "print(classification_report(y_test, y_pred))\n",
        "print(\"\\nConfusion Matrix:\")\n",
        "print(confusion_matrix(y_test, y_pred))"
      ],
      "metadata": {
        "colab": {
          "base_uri": "https://localhost:8080/"
        },
        "id": "qev-phic_YAH",
        "outputId": "8cd996e7-a28a-4d9a-ab06-fe6056685f10"
      },
      "execution_count": null,
      "outputs": [
        {
          "output_type": "stream",
          "name": "stdout",
          "text": [
            "Train shape: (7815, 23)\n",
            "Test shape: (11697, 23)\n",
            "   Unnamed: 0 trans_date_trans_time            cc_num  \\\n",
            "0           0   2019-01-01 00:00:18  2703186189652095   \n",
            "1           1   2019-01-01 00:00:44      630423337322   \n",
            "2           2   2019-01-01 00:00:51    38859492057661   \n",
            "3           3   2019-01-01 00:01:16  3534093764340240   \n",
            "4           4   2019-01-01 00:03:06   375534208663984   \n",
            "\n",
            "                             merchant       category     amt      first  \\\n",
            "0          fraud_Rippin, Kub and Mann       misc_net    4.97   Jennifer   \n",
            "1     fraud_Heller, Gutmann and Zieme    grocery_pos  107.23  Stephanie   \n",
            "2                fraud_Lind-Buckridge  entertainment  220.11     Edward   \n",
            "3  fraud_Kutch, Hermiston and Farrell  gas_transport   45.00     Jeremy   \n",
            "4                 fraud_Keeling-Crist       misc_pos   41.96      Tyler   \n",
            "\n",
            "      last gender                        street  ...      lat      long  \\\n",
            "0    Banks      F                561 Perry Cove  ...  36.0788  -81.1781   \n",
            "1     Gill      F  43039 Riley Greens Suite 393  ...  48.8878 -118.2105   \n",
            "2  Sanchez      M      594 White Dale Suite 530  ...  42.1808 -112.2620   \n",
            "3    White      M   9443 Cynthia Court Apt. 038  ...  46.2306 -112.1138   \n",
            "4   Garcia      M              408 Bradley Rest  ...  38.4207  -79.4629   \n",
            "\n",
            "   city_pop                                job         dob  \\\n",
            "0    3495.0          Psychologist, counselling  1988-03-09   \n",
            "1     149.0  Special educational needs teacher  1978-06-21   \n",
            "2    4154.0        Nature conservation officer  1962-01-19   \n",
            "3    1939.0                    Patent attorney  1967-01-12   \n",
            "4      99.0     Dance movement psychotherapist  1986-03-28   \n",
            "\n",
            "                          trans_num     unix_time  merch_lat  merch_long  \\\n",
            "0  0b242abb623afc578575680df30655b9  1.325376e+09  36.011293  -82.048315   \n",
            "1  1f76529f8574734946361c461b024d99  1.325376e+09  49.159047 -118.186462   \n",
            "2  a1a22d70485983eac12b5b88dad1cf95  1.325376e+09  43.150704 -112.154481   \n",
            "3  6b849c168bdad6f867558c3793159a81  1.325376e+09  47.034331 -112.561071   \n",
            "4  a41d7549acf90789359a9aa5346dcb46  1.325376e+09  38.674999  -78.632459   \n",
            "\n",
            "   is_fraud  \n",
            "0       0.0  \n",
            "1       0.0  \n",
            "2       0.0  \n",
            "3       0.0  \n",
            "4       0.0  \n",
            "\n",
            "[5 rows x 23 columns]\n",
            "Classification Report:\n",
            "              precision    recall  f1-score   support\n",
            "\n",
            "         0.0       1.00      1.00      1.00     11667\n",
            "         1.0       0.00      0.00      0.00        29\n",
            "\n",
            "    accuracy                           1.00     11696\n",
            "   macro avg       0.50      0.50      0.50     11696\n",
            "weighted avg       1.00      1.00      1.00     11696\n",
            "\n",
            "\n",
            "Confusion Matrix:\n",
            "[[11663     4]\n",
            " [   29     0]]\n"
          ]
        }
      ]
    }
  ]
}